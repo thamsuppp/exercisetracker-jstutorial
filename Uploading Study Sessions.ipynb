{
 "cells": [
  {
   "cell_type": "markdown",
   "metadata": {},
   "source": [
    "# Uploading Study Sessions"
   ]
  },
  {
   "cell_type": "code",
   "execution_count": 31,
   "metadata": {
    "ExecuteTime": {
     "end_time": "2021-01-09T14:56:23.049789Z",
     "start_time": "2021-01-09T14:56:23.035318Z"
    }
   },
   "outputs": [],
   "source": [
    "import requests\n",
    "import json\n",
    "import pandas as pd\n",
    "import random\n",
    "from datetime import datetime"
   ]
  },
  {
   "cell_type": "code",
   "execution_count": 1,
   "metadata": {
    "ExecuteTime": {
     "end_time": "2021-01-09T14:43:10.694178Z",
     "start_time": "2021-01-09T14:43:10.551452Z"
    }
   },
   "outputs": [],
   "source": [
    "# GET REQUEST\n",
    "# api-endpoint \n",
    "URL = \"http://localhost:5000/studysessions/\"\n",
    "  \n",
    "# defining a params dict for the parameters to be sent to the API \n",
    "PARAMS = {} \n",
    "  \n",
    "# sending get request and saving the response as response object \n",
    "r = requests.get(url = URL, params = PARAMS) \n",
    "  \n",
    "# extracting data in json format \n",
    "data = r.json() "
   ]
  },
  {
   "cell_type": "code",
   "execution_count": 54,
   "metadata": {
    "ExecuteTime": {
     "end_time": "2021-01-09T15:00:13.812007Z",
     "start_time": "2021-01-09T15:00:13.766134Z"
    }
   },
   "outputs": [],
   "source": [
    "df = pd.read_csv('Isaac Study Time 21 Oct.csv')\n",
    "\n",
    "df['Start'] = df['Start'].apply(lambda x: '{} {}'.format(x[0:10], x[11:19]))\n",
    "df['End'] = df['End'].apply(lambda x: '{} {}'.format(x[0:10], x[11:19]))\n",
    "\n",
    "#df['Start'] = df['Start'].apply(lambda x: x[:-7])\n",
    "#df['End'] = df['End'].apply(lambda x: x[:-7])\n",
    "#df['Start'] = df['Start'].apply(lambda x: datetime.strptime(x, '%Y-%m-%d %H:%M:%S'))\n",
    "#df['End'] = df['End'].apply(lambda x: datetime.strptime(x, '%Y-%m-%d %H:%M:%S'))\n",
    "\n",
    "# Insert random productivity number\n",
    "df['Productivity'] = df['End'].apply(lambda x: random.randint(0, 10))\n",
    "df['Username'] = 'Isaac'\n",
    "df = df.drop('Duration', axis = 1)\n",
    "df.columns = ['start', 'end', 'subject', 'task', 'productivity', 'username']\n",
    "\n",
    "df = df[['username', 'subject', 'task', 'start', 'end', 'productivity']]"
   ]
  },
  {
   "cell_type": "code",
   "execution_count": 68,
   "metadata": {
    "ExecuteTime": {
     "end_time": "2021-01-09T15:25:59.041155Z",
     "start_time": "2021-01-09T15:25:59.019810Z"
    }
   },
   "outputs": [],
   "source": [
    "# Convert each row of dataframe into record\n",
    "sessions = df.to_dict(orient = 'records')\n",
    "# Randomly sample 5 \n",
    "sessions_add = random.sample(sessions, 5)"
   ]
  },
  {
   "cell_type": "code",
   "execution_count": 69,
   "metadata": {
    "ExecuteTime": {
     "end_time": "2021-01-09T15:26:00.660328Z",
     "start_time": "2021-01-09T15:26:00.559378Z"
    }
   },
   "outputs": [
    {
     "name": "stdout",
     "output_type": "stream",
     "text": [
      "{'username': 'Isaac', 'subject': 'CIS520', 'task': 'Midterm Prep w Matt', 'start': '2020-10-12 21:05:00', 'end': '2020-10-12 21:50:00', 'productivity': 0}\n",
      "\"Study Session added!\"\n",
      "{'username': 'Isaac', 'subject': 'Econ Fed', 'task': 'Meeting', 'start': '2020-10-04 11:45:00', 'end': '2020-10-04 13:30:00', 'productivity': 10}\n",
      "\"Study Session added!\"\n",
      "{'username': 'Isaac', 'subject': 'Derivatives', 'task': 'Revise Options OIDD353', 'start': '2020-08-27 11:50:00', 'end': '2020-08-27 12:15:00', 'productivity': 8}\n",
      "\"Study Session added!\"\n",
      "{'username': 'Isaac', 'subject': 'CIS520', 'task': 'Midterm Revision', 'start': '2020-10-14 06:45:00', 'end': '2020-10-14 07:15:00', 'productivity': 4}\n",
      "\"Study Session added!\"\n",
      "{'username': 'Isaac', 'subject': 'OPT', 'task': 'Meeting', 'start': '2020-08-07 22:30:00', 'end': '2020-08-08 00:15:00', 'productivity': 6}\n",
      "\"Study Session added!\"\n"
     ]
    }
   ],
   "source": [
    "# POST REQUEST\n",
    "\n",
    "# defining the api-endpoint  \n",
    "API_ENDPOINT = \"http://localhost:5000/studysessions/add\"\n",
    "\n",
    "headers = {'content-type': 'application/json'}\n",
    "\n",
    "for session in sessions_add:\n",
    "    print(session)\n",
    "    r = requests.post(url = API_ENDPOINT, json = session) \n",
    "    # extracting response text  \n",
    "    response = r.text \n",
    "    print(response)"
   ]
  }
 ],
 "metadata": {
  "hide_input": false,
  "kernelspec": {
   "display_name": "Python 3",
   "language": "python",
   "name": "python3"
  },
  "language_info": {
   "codemirror_mode": {
    "name": "ipython",
    "version": 3
   },
   "file_extension": ".py",
   "mimetype": "text/x-python",
   "name": "python",
   "nbconvert_exporter": "python",
   "pygments_lexer": "ipython3",
   "version": "3.7.5"
  },
  "toc": {
   "base_numbering": 1,
   "nav_menu": {},
   "number_sections": true,
   "sideBar": true,
   "skip_h1_title": false,
   "title_cell": "Table of Contents",
   "title_sidebar": "Contents",
   "toc_cell": false,
   "toc_position": {},
   "toc_section_display": true,
   "toc_window_display": false
  }
 },
 "nbformat": 4,
 "nbformat_minor": 4
}
